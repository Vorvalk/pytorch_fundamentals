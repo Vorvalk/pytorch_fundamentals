{
  "nbformat": 4,
  "nbformat_minor": 0,
  "metadata": {
    "colab": {
      "provenance": [],
      "authorship_tag": "ABX9TyMRs5Lkn7ddi6+uf6yrr0DE",
      "include_colab_link": true
    },
    "kernelspec": {
      "name": "python3",
      "display_name": "Python 3"
    },
    "language_info": {
      "name": "python"
    }
  },
  "cells": [
    {
      "cell_type": "markdown",
      "metadata": {
        "id": "view-in-github",
        "colab_type": "text"
      },
      "source": [
        "<a href=\"https://colab.research.google.com/github/VORVALK/pytorch_fundamentals/blob/main/pytorch_fundamentals_course.ipynb\" target=\"_parent\"><img src=\"https://colab.research.google.com/assets/colab-badge.svg\" alt=\"Open In Colab\"/></a>"
      ]
    },
    {
      "cell_type": "markdown",
      "source": [
        "## 00. Pytorch Fundamentals\n",
        "\n",
        "Resource motebook: https://www.learnpytorch.io/00_pytorch_fundamentals/"
      ],
      "metadata": {
        "id": "e0TYbRXNB-hX"
      }
    },
    {
      "cell_type": "code",
      "source": [
        "## Import libraries\n",
        "\n",
        "import torch\n",
        "import pandas as pd\n",
        "import numpy as np\n",
        "import matplotlib.pyplot as plt\n",
        "print(torch.__version__)"
      ],
      "metadata": {
        "id": "eZ5zxkI3Hou-",
        "colab": {
          "base_uri": "https://localhost:8080/"
        },
        "outputId": "36d29de0-9175-48d4-ffe5-b7f1af0730de"
      },
      "execution_count": 1,
      "outputs": [
        {
          "output_type": "stream",
          "name": "stdout",
          "text": [
            "2.5.0+cu121\n"
          ]
        }
      ]
    },
    {
      "cell_type": "markdown",
      "source": [
        "## Introduction to tensors\n",
        "### Creating tensors"
      ],
      "metadata": {
        "id": "d8gKqPQmI2MR"
      }
    },
    {
      "cell_type": "code",
      "source": [
        "# Scalar\n",
        "scalar = torch.tensor(7)\n",
        "scalar\n",
        "scalar.ndim"
      ],
      "metadata": {
        "id": "9fmi4-GVJTq2",
        "colab": {
          "base_uri": "https://localhost:8080/"
        },
        "outputId": "3b720224-c5f1-4d70-b9f0-74d511797ff5"
      },
      "execution_count": 2,
      "outputs": [
        {
          "output_type": "execute_result",
          "data": {
            "text/plain": [
              "0"
            ]
          },
          "metadata": {},
          "execution_count": 2
        }
      ]
    },
    {
      "cell_type": "code",
      "source": [
        "# Get tensor back as Python int\n",
        "scalar.item()"
      ],
      "metadata": {
        "id": "-79gqguMKLDZ",
        "colab": {
          "base_uri": "https://localhost:8080/"
        },
        "outputId": "892d5f8e-aa62-4569-aecb-8da908626c02"
      },
      "execution_count": 3,
      "outputs": [
        {
          "output_type": "execute_result",
          "data": {
            "text/plain": [
              "7"
            ]
          },
          "metadata": {},
          "execution_count": 3
        }
      ]
    },
    {
      "cell_type": "code",
      "source": [
        "# Create a vector\n",
        "vector = torch.tensor([7,7])\n",
        "vector.shape"
      ],
      "metadata": {
        "id": "KyRhwPtgKUwJ",
        "colab": {
          "base_uri": "https://localhost:8080/"
        },
        "outputId": "e3db41b6-be69-48f2-fed4-6b12772e8dd1"
      },
      "execution_count": 4,
      "outputs": [
        {
          "output_type": "execute_result",
          "data": {
            "text/plain": [
              "torch.Size([2])"
            ]
          },
          "metadata": {},
          "execution_count": 4
        }
      ]
    },
    {
      "cell_type": "code",
      "source": [
        "# Create a matrix\n",
        "mtx = torch.tensor([[7,8],[9,10]])\n",
        "mtx\n",
        "mtx.shape"
      ],
      "metadata": {
        "id": "M8847pqCLBJf",
        "colab": {
          "base_uri": "https://localhost:8080/"
        },
        "outputId": "ed82f7d5-6067-43e6-fb6b-5d273611acb5"
      },
      "execution_count": 5,
      "outputs": [
        {
          "output_type": "execute_result",
          "data": {
            "text/plain": [
              "torch.Size([2, 2])"
            ]
          },
          "metadata": {},
          "execution_count": 5
        }
      ]
    },
    {
      "cell_type": "code",
      "source": [
        "# Create tensor\n",
        "TNS = torch.tensor([[[1,2,3],[4,5,6],[7,8,9]]])\n",
        "TNS.shape\n",
        "# tensor shape is 1 x 3 x 3"
      ],
      "metadata": {
        "id": "VD6rs4bILwjS",
        "colab": {
          "base_uri": "https://localhost:8080/"
        },
        "outputId": "08d74aaa-8619-4192-e280-2b52efa14dbd"
      },
      "execution_count": 6,
      "outputs": [
        {
          "output_type": "execute_result",
          "data": {
            "text/plain": [
              "torch.Size([1, 3, 3])"
            ]
          },
          "metadata": {},
          "execution_count": 6
        }
      ]
    },
    {
      "cell_type": "markdown",
      "source": [
        "### Random Tensors"
      ],
      "metadata": {
        "id": "-c3Ee6iKQnRL"
      }
    },
    {
      "cell_type": "code",
      "source": [
        "random_tensor = torch.rand(4,5)\n",
        "random_tensor\n",
        "\n",
        "random_image_tensor = torch.rand(256,256,3)\n",
        "random_image_tensor"
      ],
      "metadata": {
        "id": "XHHQy1AnbAMI",
        "colab": {
          "base_uri": "https://localhost:8080/"
        },
        "outputId": "708b1b76-d775-4f4d-b179-8f6c49125bb0"
      },
      "execution_count": 7,
      "outputs": [
        {
          "output_type": "execute_result",
          "data": {
            "text/plain": [
              "tensor([[[0.4326, 0.9379, 0.9708],\n",
              "         [0.0239, 0.5548, 0.8697],\n",
              "         [0.5281, 0.4685, 0.8697],\n",
              "         ...,\n",
              "         [0.2720, 0.4139, 0.7671],\n",
              "         [0.4537, 0.3114, 0.2026],\n",
              "         [0.8026, 0.1007, 0.6473]],\n",
              "\n",
              "        [[0.4630, 0.1046, 0.6737],\n",
              "         [0.7056, 0.6229, 0.6219],\n",
              "         [0.6809, 0.3122, 0.4384],\n",
              "         ...,\n",
              "         [0.4210, 0.0621, 0.5429],\n",
              "         [0.8797, 0.4154, 0.3765],\n",
              "         [0.7598, 0.5726, 0.6234]],\n",
              "\n",
              "        [[0.5198, 0.8008, 0.9242],\n",
              "         [0.5888, 0.3950, 0.8864],\n",
              "         [0.1003, 0.4451, 0.4198],\n",
              "         ...,\n",
              "         [0.5505, 0.6864, 0.2431],\n",
              "         [0.6490, 0.7854, 0.0661],\n",
              "         [0.2312, 0.9722, 0.7723]],\n",
              "\n",
              "        ...,\n",
              "\n",
              "        [[0.5926, 0.6678, 0.9719],\n",
              "         [0.6417, 0.0963, 0.0140],\n",
              "         [0.8704, 0.4107, 0.1047],\n",
              "         ...,\n",
              "         [0.3458, 0.4883, 0.2670],\n",
              "         [0.2410, 0.7081, 0.4411],\n",
              "         [0.0398, 0.5392, 0.8981]],\n",
              "\n",
              "        [[0.9559, 0.7882, 0.4189],\n",
              "         [0.8812, 0.8943, 0.9701],\n",
              "         [0.9281, 0.1417, 0.8438],\n",
              "         ...,\n",
              "         [0.0275, 0.1463, 0.2164],\n",
              "         [0.8550, 0.5398, 0.9367],\n",
              "         [0.3356, 0.2151, 0.0648]],\n",
              "\n",
              "        [[0.3369, 0.6736, 0.4801],\n",
              "         [0.9874, 0.5927, 0.1703],\n",
              "         [0.6543, 0.0340, 0.0078],\n",
              "         ...,\n",
              "         [0.9660, 0.6974, 0.9417],\n",
              "         [0.1039, 0.2138, 0.5868],\n",
              "         [0.1756, 0.9416, 0.3360]]])"
            ]
          },
          "metadata": {},
          "execution_count": 7
        }
      ]
    },
    {
      "cell_type": "markdown",
      "source": [
        "### Create a tensor of all zeros"
      ],
      "metadata": {
        "id": "KFsxJpRjycMY"
      }
    },
    {
      "cell_type": "code",
      "source": [
        "zeros = torch.zeros(size=(3,4))\n",
        "zeros"
      ],
      "metadata": {
        "id": "e3O9BmV7yhoR",
        "colab": {
          "base_uri": "https://localhost:8080/"
        },
        "outputId": "8bbd5fb5-bb1e-45ac-cbe5-c82f308c92fe"
      },
      "execution_count": 8,
      "outputs": [
        {
          "output_type": "execute_result",
          "data": {
            "text/plain": [
              "tensor([[0., 0., 0., 0.],\n",
              "        [0., 0., 0., 0.],\n",
              "        [0., 0., 0., 0.]])"
            ]
          },
          "metadata": {},
          "execution_count": 8
        }
      ]
    },
    {
      "cell_type": "markdown",
      "source": [
        "### Create a tensor of all ones"
      ],
      "metadata": {
        "id": "tH_tRco8y6UY"
      }
    },
    {
      "cell_type": "code",
      "source": [
        "ones = torch.ones(size=(3,4))\n",
        "ones, ones.dtype"
      ],
      "metadata": {
        "id": "8aW0t5HrzAs8",
        "colab": {
          "base_uri": "https://localhost:8080/"
        },
        "outputId": "dca46b35-e70b-4450-e70f-857717bfa8bd"
      },
      "execution_count": 9,
      "outputs": [
        {
          "output_type": "execute_result",
          "data": {
            "text/plain": [
              "(tensor([[1., 1., 1., 1.],\n",
              "         [1., 1., 1., 1.],\n",
              "         [1., 1., 1., 1.]]),\n",
              " torch.float32)"
            ]
          },
          "metadata": {},
          "execution_count": 9
        }
      ]
    },
    {
      "cell_type": "markdown",
      "source": [
        "## Create a range of tenors and tensors-like"
      ],
      "metadata": {
        "id": "9rxUyibdzswL"
      }
    },
    {
      "cell_type": "code",
      "source": [
        "torch.arange(0, 10)"
      ],
      "metadata": {
        "id": "YkPiTDpnzz9c",
        "colab": {
          "base_uri": "https://localhost:8080/"
        },
        "outputId": "084913a5-8eea-42a5-9a3d-11e97d1a35a4"
      },
      "execution_count": 10,
      "outputs": [
        {
          "output_type": "execute_result",
          "data": {
            "text/plain": [
              "tensor([0, 1, 2, 3, 4, 5, 6, 7, 8, 9])"
            ]
          },
          "metadata": {},
          "execution_count": 10
        }
      ]
    },
    {
      "cell_type": "code",
      "source": [
        "rand_tensor = torch.arange(start=0, end=1000, step=77)\n",
        "rand_tensor"
      ],
      "metadata": {
        "id": "IuGzncX80cBp",
        "colab": {
          "base_uri": "https://localhost:8080/"
        },
        "outputId": "ebdfc018-d30e-4465-e2fa-6995086bdc7a"
      },
      "execution_count": 11,
      "outputs": [
        {
          "output_type": "execute_result",
          "data": {
            "text/plain": [
              "tensor([  0,  77, 154, 231, 308, 385, 462, 539, 616, 693, 770, 847, 924])"
            ]
          },
          "metadata": {},
          "execution_count": 11
        }
      ]
    },
    {
      "cell_type": "code",
      "source": [
        "# Converting tensor to all zeros\n",
        "ten_zeros = torch.zeros_like(rand_tensor)\n",
        "ten_zeros"
      ],
      "metadata": {
        "id": "uO46Wsbl0p1d",
        "colab": {
          "base_uri": "https://localhost:8080/"
        },
        "outputId": "7809fd09-12fa-4718-816d-7f3472ef33c2"
      },
      "execution_count": 12,
      "outputs": [
        {
          "output_type": "execute_result",
          "data": {
            "text/plain": [
              "tensor([0, 0, 0, 0, 0, 0, 0, 0, 0, 0, 0, 0, 0])"
            ]
          },
          "metadata": {},
          "execution_count": 12
        }
      ]
    },
    {
      "cell_type": "markdown",
      "source": [
        "## Tensor datatypes"
      ],
      "metadata": {
        "id": "fx1GpUTZicwk"
      }
    },
    {
      "cell_type": "code",
      "source": [
        "# Float32 Tensor\n",
        "float32_tensor = torch.tensor([3.0,6.0, 9.0],\n",
        "                              dtype=None,           # what data type is the tensor\n",
        "                              device=None,          # what device is on (CPU vs GPU)\n",
        "                              requires_grad=False)  # whether or not to track gradients with this tensor's operations\n",
        "float32_tensor.dtype"
      ],
      "metadata": {
        "id": "Cikyp5-PigCa",
        "colab": {
          "base_uri": "https://localhost:8080/"
        },
        "outputId": "809d0d1d-16c4-4e5d-8eb4-d8b53a179b6d"
      },
      "execution_count": 13,
      "outputs": [
        {
          "output_type": "execute_result",
          "data": {
            "text/plain": [
              "torch.float32"
            ]
          },
          "metadata": {},
          "execution_count": 13
        }
      ]
    },
    {
      "cell_type": "code",
      "source": [
        "# Float16 Tensor (convert from float32 tensor)\n",
        "float16_tensor = float32_tensor.type(torch.float16)\n",
        "float16_tensor"
      ],
      "metadata": {
        "id": "F56_G03ok8PV",
        "colab": {
          "base_uri": "https://localhost:8080/"
        },
        "outputId": "1e2b9aa4-9a58-4c63-e013-7542cfa0c537"
      },
      "execution_count": 14,
      "outputs": [
        {
          "output_type": "execute_result",
          "data": {
            "text/plain": [
              "tensor([3., 6., 9.], dtype=torch.float16)"
            ]
          },
          "metadata": {},
          "execution_count": 14
        }
      ]
    },
    {
      "cell_type": "code",
      "source": [
        "# Different datatypes can operate\n",
        "dif_types=float16_tensor * float32_tensor\n",
        "\n",
        "# Tensor details\n",
        "print(dif_types)\n",
        "print(f\"Tenso datatype: {dif_types.dtype}\")\n",
        "print(f\"Tensor shape: {dif_types.shape}\")\n",
        "print(f\"Device tensor is on: {dif_types.device}\")"
      ],
      "metadata": {
        "id": "BUDGbVrglamX",
        "colab": {
          "base_uri": "https://localhost:8080/"
        },
        "outputId": "0671fd1c-b639-4581-be68-2550e39d213d"
      },
      "execution_count": 15,
      "outputs": [
        {
          "output_type": "stream",
          "name": "stdout",
          "text": [
            "tensor([ 9., 36., 81.])\n",
            "Tenso datatype: torch.float32\n",
            "Tensor shape: torch.Size([3])\n",
            "Device tensor is on: cpu\n"
          ]
        }
      ]
    },
    {
      "cell_type": "markdown",
      "source": [
        "## Tensor operations"
      ],
      "metadata": {
        "id": "gQu97fNin81_"
      }
    },
    {
      "cell_type": "code",
      "source": [
        "# Tensor addition\n",
        "tensor = torch.tensor([1, 2, 3])\n",
        "tensor + 10"
      ],
      "metadata": {
        "id": "EGhuwv_Vn_5U",
        "colab": {
          "base_uri": "https://localhost:8080/"
        },
        "outputId": "cc976ed2-ba1d-44d2-9e77-5e6a73bfb798"
      },
      "execution_count": 16,
      "outputs": [
        {
          "output_type": "execute_result",
          "data": {
            "text/plain": [
              "tensor([11, 12, 13])"
            ]
          },
          "metadata": {},
          "execution_count": 16
        }
      ]
    },
    {
      "cell_type": "code",
      "source": [
        "# Tensor multiply\n",
        "tensor = tensor * 10\n",
        "tensor"
      ],
      "metadata": {
        "colab": {
          "base_uri": "https://localhost:8080/"
        },
        "id": "PJgGHZ3v6f6l",
        "outputId": "447c1618-3928-46cc-ad4a-3724238c5247"
      },
      "execution_count": 17,
      "outputs": [
        {
          "output_type": "execute_result",
          "data": {
            "text/plain": [
              "tensor([10, 20, 30])"
            ]
          },
          "metadata": {},
          "execution_count": 17
        }
      ]
    },
    {
      "cell_type": "code",
      "source": [
        "# Tensor subtract\n",
        "tensor - 10"
      ],
      "metadata": {
        "colab": {
          "base_uri": "https://localhost:8080/"
        },
        "id": "wkbpH7_-6v9I",
        "outputId": "b7ad24d5-7a06-444a-95e4-2a61f47a3d1b"
      },
      "execution_count": 18,
      "outputs": [
        {
          "output_type": "execute_result",
          "data": {
            "text/plain": [
              "tensor([ 0, 10, 20])"
            ]
          },
          "metadata": {},
          "execution_count": 18
        }
      ]
    },
    {
      "cell_type": "code",
      "source": [
        "# PyTorch in-built functions\n",
        "print(torch.mul(tensor, 10))\n",
        "print(torch.add(tensor, 10))"
      ],
      "metadata": {
        "colab": {
          "base_uri": "https://localhost:8080/"
        },
        "id": "KmF42a4a673V",
        "outputId": "0aae06d7-c144-49ff-8626-d0996842d50a"
      },
      "execution_count": 19,
      "outputs": [
        {
          "output_type": "stream",
          "name": "stdout",
          "text": [
            "tensor([100, 200, 300])\n",
            "tensor([20, 30, 40])\n"
          ]
        }
      ]
    },
    {
      "cell_type": "markdown",
      "source": [
        "## Matrix multiplication"
      ],
      "metadata": {
        "id": "0-LO6_zqGeLl"
      }
    },
    {
      "cell_type": "code",
      "source": [
        "print(tensor)\n",
        "torch.matmul(tensor, tensor)\n",
        "\n",
        "## same as:\n",
        "val = 0\n",
        "for i in range(len(tensor)):\n",
        "  val += tensor[i]*tensor[i]\n",
        "print(val)\n"
      ],
      "metadata": {
        "colab": {
          "base_uri": "https://localhost:8080/"
        },
        "id": "1ALLEQjkGh9d",
        "outputId": "c770b833-b66c-4698-e2fb-264903524264"
      },
      "execution_count": 22,
      "outputs": [
        {
          "output_type": "stream",
          "name": "stdout",
          "text": [
            "tensor([10, 20, 30])\n",
            "tensor(1400)\n"
          ]
        }
      ]
    },
    {
      "cell_type": "code",
      "source": [
        "# Matrix dimensions in multiplication -> inner dimension must be equal. outter dimension is final matrix dimension\n",
        "print(torch.matmul(torch.rand(3,2), torch.rand(2,3)))\n",
        "print(torch.matmul(torch.rand(2,3), torch.rand(3,2)))\n",
        "# print(torch.matmul(torch.rand(3,2), torch.rand(3,2))) -> won't work (inner dimensions don't match)"
      ],
      "metadata": {
        "colab": {
          "base_uri": "https://localhost:8080/"
        },
        "id": "xzLVb4kzKE8P",
        "outputId": "13465011-f983-4e11-f4c8-e374f22ab6e5"
      },
      "execution_count": 25,
      "outputs": [
        {
          "output_type": "stream",
          "name": "stdout",
          "text": [
            "tensor([[0.6732, 0.7192, 0.1045],\n",
            "        [0.3678, 0.4647, 0.1262],\n",
            "        [0.9875, 1.1586, 0.2531]])\n",
            "tensor([[0.7212, 0.5091],\n",
            "        [0.4826, 0.5187]])\n"
          ]
        }
      ]
    },
    {
      "cell_type": "code",
      "source": [
        "# Manipulate tensor dimensions with transpose\n",
        "tensor_A = torch.tensor([[1,2],\n",
        "                         [3,4],\n",
        "                         [5,6]])\n",
        "tensor_B = torch.tensor([[7,10],\n",
        "                         [8,11],\n",
        "                         [9,12]])\n",
        "\n",
        "print(tensor_B.T)\n",
        "torch.matmul(tensor_A, tensor_B.T)\n"
      ],
      "metadata": {
        "colab": {
          "base_uri": "https://localhost:8080/"
        },
        "id": "sYMrTpF3yjbV",
        "outputId": "a1129a7d-e4aa-46f2-f6d1-b3903d200f13"
      },
      "execution_count": 28,
      "outputs": [
        {
          "output_type": "stream",
          "name": "stdout",
          "text": [
            "tensor([[ 7,  8,  9],\n",
            "        [10, 11, 12]])\n"
          ]
        },
        {
          "output_type": "execute_result",
          "data": {
            "text/plain": [
              "tensor([[ 27,  30,  33],\n",
              "        [ 61,  68,  75],\n",
              "        [ 95, 106, 117]])"
            ]
          },
          "metadata": {},
          "execution_count": 28
        }
      ]
    }
  ]
}
